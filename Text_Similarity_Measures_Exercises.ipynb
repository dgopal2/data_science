{
 "cells": [
  {
   "cell_type": "markdown",
   "metadata": {},
   "source": [
    "# Text Similarity Measures Exercises #"
   ]
  },
  {
   "cell_type": "markdown",
   "metadata": {},
   "source": [
    "## Introduction ##"
   ]
  },
  {
   "cell_type": "markdown",
   "metadata": {},
   "source": [
    "We will be using [a song lyric dataset from Kaggle](https://www.kaggle.com/mousehead/songlyrics) to identify songs with similar lyrics. The data set contains artists, songs and lyrics for 55K+ songs, but today we will be focusing on songs by one group in particular - The Beatles.\n",
    "\n",
    "The following code will help you load in the data and get set up for this exercise."
   ]
  },
  {
   "cell_type": "code",
   "execution_count": 1,
   "metadata": {},
   "outputs": [],
   "source": [
    "import nltk\n",
    "import pandas as pd\n",
    "import re\n",
    "from sklearn.feature_extraction.text import CountVectorizer\n",
    "from sklearn.feature_extraction.text import TfidfVectorizer\n",
    "import numpy as np\n",
    "from sklearn.metrics.pairwise import cosine_similarity"
   ]
  },
  {
   "cell_type": "code",
   "execution_count": 2,
   "metadata": {},
   "outputs": [
    {
     "data": {
      "text/html": [
       "<div>\n",
       "<style scoped>\n",
       "    .dataframe tbody tr th:only-of-type {\n",
       "        vertical-align: middle;\n",
       "    }\n",
       "\n",
       "    .dataframe tbody tr th {\n",
       "        vertical-align: top;\n",
       "    }\n",
       "\n",
       "    .dataframe thead th {\n",
       "        text-align: right;\n",
       "    }\n",
       "</style>\n",
       "<table border=\"1\" class=\"dataframe\">\n",
       "  <thead>\n",
       "    <tr style=\"text-align: right;\">\n",
       "      <th></th>\n",
       "      <th>artist</th>\n",
       "      <th>song</th>\n",
       "      <th>link</th>\n",
       "      <th>text</th>\n",
       "    </tr>\n",
       "  </thead>\n",
       "  <tbody>\n",
       "    <tr>\n",
       "      <th>0</th>\n",
       "      <td>ABBA</td>\n",
       "      <td>Ahe's My Kind Of Girl</td>\n",
       "      <td>/a/abba/ahes+my+kind+of+girl_20598417.html</td>\n",
       "      <td>Look at her face, it's a wonderful face  \\r\\nA...</td>\n",
       "    </tr>\n",
       "    <tr>\n",
       "      <th>1</th>\n",
       "      <td>ABBA</td>\n",
       "      <td>Andante, Andante</td>\n",
       "      <td>/a/abba/andante+andante_20002708.html</td>\n",
       "      <td>Take it easy with me, please  \\r\\nTouch me gen...</td>\n",
       "    </tr>\n",
       "    <tr>\n",
       "      <th>2</th>\n",
       "      <td>ABBA</td>\n",
       "      <td>As Good As New</td>\n",
       "      <td>/a/abba/as+good+as+new_20003033.html</td>\n",
       "      <td>I'll never know why I had to go  \\r\\nWhy I had...</td>\n",
       "    </tr>\n",
       "    <tr>\n",
       "      <th>3</th>\n",
       "      <td>ABBA</td>\n",
       "      <td>Bang</td>\n",
       "      <td>/a/abba/bang_20598415.html</td>\n",
       "      <td>Making somebody happy is a question of give an...</td>\n",
       "    </tr>\n",
       "    <tr>\n",
       "      <th>4</th>\n",
       "      <td>ABBA</td>\n",
       "      <td>Bang-A-Boomerang</td>\n",
       "      <td>/a/abba/bang+a+boomerang_20002668.html</td>\n",
       "      <td>Making somebody happy is a question of give an...</td>\n",
       "    </tr>\n",
       "  </tbody>\n",
       "</table>\n",
       "</div>"
      ],
      "text/plain": [
       "  artist                   song                                        link  \\\n",
       "0   ABBA  Ahe's My Kind Of Girl  /a/abba/ahes+my+kind+of+girl_20598417.html   \n",
       "1   ABBA       Andante, Andante       /a/abba/andante+andante_20002708.html   \n",
       "2   ABBA         As Good As New        /a/abba/as+good+as+new_20003033.html   \n",
       "3   ABBA                   Bang                  /a/abba/bang_20598415.html   \n",
       "4   ABBA       Bang-A-Boomerang      /a/abba/bang+a+boomerang_20002668.html   \n",
       "\n",
       "                                                text  \n",
       "0  Look at her face, it's a wonderful face  \\r\\nA...  \n",
       "1  Take it easy with me, please  \\r\\nTouch me gen...  \n",
       "2  I'll never know why I had to go  \\r\\nWhy I had...  \n",
       "3  Making somebody happy is a question of give an...  \n",
       "4  Making somebody happy is a question of give an...  "
      ]
     },
     "execution_count": 2,
     "metadata": {},
     "output_type": "execute_result"
    }
   ],
   "source": [
    "data = pd.read_csv('C:/Users/gugha/Documents/UIC/2nd_Semester/Adv Text Analytics/Assignment1/songdata.csv')\n",
    "data.head()"
   ]
  },
  {
   "cell_type": "markdown",
   "metadata": {},
   "source": [
    "## Question 1 ##"
   ]
  },
  {
   "cell_type": "markdown",
   "metadata": {},
   "source": [
    "* Filter the lyrics data set to only select songs by The Beatles.\n",
    "* How many songs are there in total by The Beatles?\n",
    "* Take a look at the first song's lyrics."
   ]
  },
  {
   "cell_type": "code",
   "execution_count": 17,
   "metadata": {},
   "outputs": [
    {
     "name": "stdout",
     "output_type": "stream",
     "text": [
      "Number of Beatles Songs: 178\n"
     ]
    }
   ],
   "source": [
    "beatles = data[data.artist==\"The Beatles\"]\n",
    "print(\"Number of Beatles Songs:\",len(beatles))"
   ]
  },
  {
   "cell_type": "code",
   "execution_count": 18,
   "metadata": {},
   "outputs": [
    {
     "name": "stdout",
     "output_type": "stream",
     "text": [
      "Well, if your hands start a-clappin'  \r\n",
      "And your fingers start a-poppin'  \r\n",
      "And your feet start a-movin' around  \r\n",
      "And if you start to swing and sway  \r\n",
      "  \r\n",
      "When the band starts to play  \r\n",
      "A real cool way out sound  \r\n",
      "And if you get to can't help it and you can't sit down  \r\n",
      "You feel like you gotta move around  \r\n",
      "  \r\n",
      "You get a shot of rhythm and blues.  \r\n",
      "With just a little rock and roll on the side  \r\n",
      "Just for good measure.  \r\n",
      "Get a pair of dancin' shoes  \r\n",
      "  \r\n",
      "Well, with your lover by your side  \r\n",
      "Don't you know you're gonna have a rockin' time, see'mon!  \r\n",
      "Don't you worry 'bout a thing  \r\n",
      "If you start to dance and sing  \r\n",
      "  \r\n",
      "And chills come up on you  \r\n",
      "And if the rhythm finally gets you and the beat gets you too  \r\n",
      "Well, here's something for you to do  \r\n",
      "  \r\n",
      "Get a shot of rhythm and blues  \r\n",
      "With just a little rock and roll on the side  \r\n",
      "Just for good measure  \r\n",
      "Get a pair of dancin' shoes  \r\n",
      "  \r\n",
      "Well, with your lover by your side  \r\n",
      "Don't you know you're gonna have a rockin' time, see'mon!  \r\n",
      "Don't you worry 'bout a thing  \r\n",
      "If you start to dance and sing  \r\n",
      "  \r\n",
      "And chills come up on you  \r\n",
      "And if the rhythm finally gets you and the beat gets you too  \r\n",
      "Well, here's something for you to do  \r\n",
      "  \r\n",
      "Get a shot of rhythm and blues  \r\n",
      "Get a pair of dancin' shoes  \r\n",
      "Get a shot of rhythm and blues  \r\n",
      "Well, with your lover by your side  \r\n",
      "  \r\n",
      "Don't you know you're gonna have a rockin' time, see'mon!  \r\n",
      "Don't you worry 'bout a thing  \r\n",
      "If you start to dance and sing  \r\n",
      "And chills come up on you  \r\n",
      "  \r\n",
      "And if the rhythm finally gets you and the beat gets you too  \r\n",
      "Well, here's something for you to do  \r\n",
      "Well, here's something for you to do  \r\n",
      "Well, here's something for you to do\r\n",
      "\r\n",
      "\n"
     ]
    }
   ],
   "source": [
    "#First Song\n",
    "print(beatles.text.iloc[0])"
   ]
  },
  {
   "cell_type": "markdown",
   "metadata": {},
   "source": [
    "## Question 2 ##"
   ]
  },
  {
   "cell_type": "markdown",
   "metadata": {},
   "source": [
    "Apply the following preprocessing steps:\n",
    "* Note the '\\n' (new line) characters in the lyrics. Remove them using regular expressions.\n",
    "* Remove all words with numbers using regular expressions.\n",
    "* Create a document-term matrix using Count Vectorizer, with each row as a song and each column as a word in the lyrics. Have the Count Vectorizer remove all stop words as well.\n",
    "\n",
    "Note: Count Vectorizer automatically removes punctuation and makes all characters lowercase."
   ]
  },
  {
   "cell_type": "code",
   "execution_count": 148,
   "metadata": {},
   "outputs": [
    {
     "name": "stderr",
     "output_type": "stream",
     "text": [
      "C:\\Users\\gugha\\Anaconda3\\lib\\site-packages\\pandas\\core\\generic.py:4405: SettingWithCopyWarning: \n",
      "A value is trying to be set on a copy of a slice from a DataFrame.\n",
      "Try using .loc[row_indexer,col_indexer] = value instead\n",
      "\n",
      "See the caveats in the documentation: http://pandas.pydata.org/pandas-docs/stable/indexing.html#indexing-view-versus-copy\n",
      "  self[name] = value\n"
     ]
    }
   ],
   "source": [
    "beatles.text = beatles.text.apply(lambda x: re.sub(r\"\\n\",\" \",x))\n",
    "beatles.text = beatles.text.apply(lambda x: re.sub(r\"[^\\s]*\\d[^\\s]*\",\"\",x))\n",
    "vectorizer = CountVectorizer(stop_words='english')\n",
    "# tokenize and build vocab\n",
    "vectorizer.fit(beatles.text)\n",
    "dtm = vectorizer.transform(beatles.text)"
   ]
  },
  {
   "cell_type": "code",
   "execution_count": 149,
   "metadata": {},
   "outputs": [],
   "source": [
    "vectorizer = CountVectorizer(stop_words='english')\n",
    "# tokenize and build vocab\n",
    "vectorizer.fit(beatles.text)\n",
    "dtm = vectorizer.transform(beatles.text)"
   ]
  },
  {
   "cell_type": "code",
   "execution_count": 150,
   "metadata": {},
   "outputs": [],
   "source": [
    "dtm_beatles = pd.DataFrame(dtm.toarray(), columns=vectorizer.get_feature_names())\n",
    "dtm_beatles[\"song\"] = beatles.song.reset_index(drop=True)"
   ]
  },
  {
   "cell_type": "markdown",
   "metadata": {},
   "source": [
    "## Question 3 ##"
   ]
  },
  {
   "cell_type": "markdown",
   "metadata": {},
   "source": [
    "* Take a look at the lyrics for the song \"Imagine\".\n",
    "* Which song is the most similar to the song \"Imagine\"?\n",
    "     * Use cosine similarity to calculate the similarity\n",
    "     * Use Count Vectorizer to numerically encode the lyrics\n",
    "* Find the most similar song using the TF-IDF Vectorizer.\n",
    "\n",
    "Compare the most similar song of the outputs of both the Count Vectorizer and the TF-IDF Vectorizer."
   ]
  },
  {
   "cell_type": "code",
   "execution_count": 151,
   "metadata": {},
   "outputs": [],
   "source": [
    "similarity1 = cosine_similarity(dtm_beatles[dtm_beatles.song!=\"Imagine\"].drop(\"song\",axis=1),dtm_beatles[dtm_beatles.song==\"Imagine\"].drop(\"song\",axis=1))"
   ]
  },
  {
   "cell_type": "code",
   "execution_count": 152,
   "metadata": {},
   "outputs": [
    {
     "data": {
      "text/plain": [
       "\"I'll Cry Instead\""
      ]
     },
     "execution_count": 152,
     "metadata": {},
     "output_type": "execute_result"
    }
   ],
   "source": [
    "dtm_beatles.song[dtm_beatles.song!=\"Imagine\"].iloc[np.argmax(similarity1)]"
   ]
  },
  {
   "cell_type": "code",
   "execution_count": 153,
   "metadata": {},
   "outputs": [],
   "source": [
    "vectorizer = TfidfVectorizer(stop_words='english')\n",
    "# tokenize and build vocab\n",
    "vectorizer.fit(beatles.text)\n",
    "dtm = vectorizer.transform(beatles.text)\n",
    "dtmtf_beatles = pd.DataFrame(dtm.toarray(), columns=vectorizer.get_feature_names())\n",
    "dtmtf_beatles[\"song\"] = beatles.song.reset_index(drop=True)"
   ]
  },
  {
   "cell_type": "code",
   "execution_count": 154,
   "metadata": {},
   "outputs": [
    {
     "data": {
      "text/plain": [
       "\"I'll Get You\""
      ]
     },
     "execution_count": 154,
     "metadata": {},
     "output_type": "execute_result"
    }
   ],
   "source": [
    "similarity = cosine_similarity(dtmtf_beatles[dtmtf_beatles.song!=\"Imagine\"].drop(\"song\",axis=1),dtmtf_beatles[dtmtf_beatles.song==\"Imagine\"].drop(\"song\",axis=1))\n",
    "dtmtf_beatles.song[dtmtf_beatles.song!=\"Imagine\"].iloc[np.argmax(similarity)]"
   ]
  },
  {
   "cell_type": "markdown",
   "metadata": {},
   "source": [
    "## Question 4 ##"
   ]
  },
  {
   "cell_type": "markdown",
   "metadata": {},
   "source": [
    "Which two Beatles songs are the most similar?\n",
    "   * Using Count Vectorizer\n",
    "   * Using TF-IDF Vectorizer\n",
    "     \n",
    "Compare the results. Which Vectorizer seems to do a better job?"
   ]
  },
  {
   "cell_type": "code",
   "execution_count": 155,
   "metadata": {},
   "outputs": [
    {
     "name": "stdout",
     "output_type": "stream",
     "text": [
      "Count Vectorizer similarity score: 0.22757944185316942\n",
      "TF-IDF Vectorizer similarity score: 0.15611650539481658\n"
     ]
    }
   ],
   "source": [
    "print(\"Count Vectorizer similarity score:\",np.max(similarity1))\n",
    "print(\"TF-IDF Vectorizer similarity score:\",np.max(similarity))"
   ]
  },
  {
   "cell_type": "markdown",
   "metadata": {},
   "source": [
    "* Similarity Score in Count Vectorizer is high hence it does a better job"
   ]
  }
 ],
 "metadata": {
  "kernelspec": {
   "display_name": "Python 3",
   "language": "python",
   "name": "python3"
  },
  "language_info": {
   "codemirror_mode": {
    "name": "ipython",
    "version": 3
   },
   "file_extension": ".py",
   "mimetype": "text/x-python",
   "name": "python",
   "nbconvert_exporter": "python",
   "pygments_lexer": "ipython3",
   "version": "3.7.3"
  },
  "toc": {
   "colors": {
    "hover_highlight": "#DAA520",
    "navigate_num": "#000000",
    "navigate_text": "#333333",
    "running_highlight": "#FF0000",
    "selected_highlight": "#FFD700",
    "sidebar_border": "#EEEEEE",
    "wrapper_background": "#FFFFFF"
   },
   "moveMenuLeft": true,
   "nav_menu": {
    "height": "48px",
    "width": "252px"
   },
   "navigate_menu": true,
   "number_sections": true,
   "sideBar": true,
   "threshold": 4,
   "toc_cell": false,
   "toc_section_display": "block",
   "toc_window_display": false,
   "widenNotebook": false
  }
 },
 "nbformat": 4,
 "nbformat_minor": 2
}

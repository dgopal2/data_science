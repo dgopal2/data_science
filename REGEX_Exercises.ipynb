{
 "cells": [
  {
   "cell_type": "markdown",
   "metadata": {},
   "source": [
    "# Regular Expressions Exercises\n",
    "\n",
    "Lets download the complete works of sherlock holmes and do some detective work using REGEX.\n",
    "\n",
    "For many of these exercises it is helpful to compile a regular expression p and then use p.findall() followed by some additional simple python processing to answer the questions\n",
    "\n",
    "start by importing re"
   ]
  },
  {
   "cell_type": "code",
   "execution_count": 1,
   "metadata": {},
   "outputs": [],
   "source": [
    "import re"
   ]
  },
  {
   "cell_type": "markdown",
   "metadata": {},
   "source": [
    "If we open that file we will get access to the complete works of Sherlock Holmes"
   ]
  },
  {
   "cell_type": "code",
   "execution_count": 2,
   "metadata": {},
   "outputs": [],
   "source": [
    "text = ''\n",
    "with open('C:/Users/gugha/Documents/UIC/2nd_Semester/Adv Text Analytics/Assignment1/cnus.txt','r') as f:\n",
    "    text = \" \".join([l.strip() for l in f.readlines()])\n",
    "text = text.strip()"
   ]
  },
  {
   "cell_type": "markdown",
   "metadata": {},
   "source": [
    "## Question 1\n",
    "\n",
    "One of Sherlock Holmes' famous catch phrases is the use of the word 'undoubtedly'\n",
    "\n",
    "* How many times is the word 'undoubtedly' used?"
   ]
  },
  {
   "cell_type": "code",
   "execution_count": 115,
   "metadata": {},
   "outputs": [
    {
     "name": "stdout",
     "output_type": "stream",
     "text": [
      "The word undoubtedly occurs 54 times\n"
     ]
    }
   ],
   "source": [
    "#With Regex\n",
    "print(\"The word undoubtedly occurs\",len(re.findall(r'undoubtedly',text.lower())),\"times\")"
   ]
  },
  {
   "cell_type": "markdown",
   "metadata": {},
   "source": [
    "## Question 2\n",
    "\n",
    "Characters are announced very deliberatly in the language of the setting in Victorian England. We can use this later to find characters in the book. But for now let's practice on a character we know\n",
    "\n",
    "How often is Sherlock Holmes refered to by 'Mr. Sherlock Holmes' vs 'Sherlock Holmes' vs. 'Mr. Holmes' vs 'Sherlock'"
   ]
  },
  {
   "cell_type": "code",
   "execution_count": 59,
   "metadata": {},
   "outputs": [
    {
     "name": "stdout",
     "output_type": "stream",
     "text": [
      "Count: 879\n"
     ]
    }
   ],
   "source": [
    "print(\"Count:\",len(re.findall(r'(?<=Mr. )Mr. Sherlock Holmes|(?<!Mr. )Sherlock Holmes|Mr. Holmes|Sherlock',text)))"
   ]
  },
  {
   "cell_type": "code",
   "execution_count": 64,
   "metadata": {},
   "outputs": [
    {
     "name": "stdout",
     "output_type": "stream",
     "text": [
      "Count of Mr. Sherlock Holmes: 93\n"
     ]
    }
   ],
   "source": [
    "print(\"Count of Mr. Sherlock Holmes:\",len(re.findall(r'(?<=Mr.) Sherlock Holmes',text)))"
   ]
  },
  {
   "cell_type": "code",
   "execution_count": 67,
   "metadata": {},
   "outputs": [
    {
     "name": "stdout",
     "output_type": "stream",
     "text": [
      "Count of Sherlock Holmes: 268\n"
     ]
    }
   ],
   "source": [
    "print(\"Count of Sherlock Holmes:\",len(re.findall(r'(?<!Mr. )Sherlock Holmes',text)))"
   ]
  },
  {
   "cell_type": "code",
   "execution_count": 69,
   "metadata": {},
   "outputs": [
    {
     "name": "stdout",
     "output_type": "stream",
     "text": [
      "Count of Mr. Holmes: 496\n"
     ]
    }
   ],
   "source": [
    "print(\"Count of Mr. Holmes:\",len(re.findall(r'(?<=Mr. )Holmes',text)))"
   ]
  },
  {
   "cell_type": "code",
   "execution_count": 11,
   "metadata": {},
   "outputs": [
    {
     "name": "stdout",
     "output_type": "stream",
     "text": [
      "Count of Sherlock: 22\n"
     ]
    }
   ],
   "source": [
    "print(\"Count of Sherlock:\",len(re.findall(r'Sherlock(?! Holmes)',text)))"
   ]
  },
  {
   "cell_type": "raw",
   "metadata": {},
   "source": [
    "## Question 3\n",
    "\n",
    "* Find all the doctors in the collection\n",
    "    \n",
    "* make a list of all the characters that appear in the collection (hint: Mrs. Mr. Miss Dr. etc)"
   ]
  },
  {
   "cell_type": "code",
   "execution_count": 42,
   "metadata": {},
   "outputs": [
    {
     "name": "stdout",
     "output_type": "stream",
     "text": [
      "The doctors:\n",
      " ['Dr. Fordham', 'Dr. Armstrong', 'Dr. Horsom', 'Dr. Richards', 'Dr. Somerton', 'Dr. Barnicot', 'Dr. Mortimer', 'Dr. Huxtable', 'Dr. Becher', 'Dr. James', 'Dr. Ainstree', 'Dr. Willows', 'Dr. Watson', 'Dr. Leslie', 'Dr. Leon', 'Dr. Thorneycroft', 'Dr. Wood', 'Dr. Moore', 'Dr. Grimesby', 'Dr. Percy', 'Dr. Trevelyan', 'Dr. Ferrier', 'Dr. Sterndale', 'Dr. Roylott', 'Dr. Shlessinger']\n"
     ]
    }
   ],
   "source": [
    "print(\"The doctors:\\n\",list(set(re.findall(r'(?:Dr\\.) [a-zA-Z]+',text))))"
   ]
  },
  {
   "cell_type": "code",
   "execution_count": 118,
   "metadata": {},
   "outputs": [
    {
     "name": "stdout",
     "output_type": "stream",
     "text": [
      "The Characters:\n",
      " ['Mr. Henry', 'Dr. Becher', 'Miss Brenda', 'Mr. Theorist', 'Dr. Willows', 'Mr. Fairdale', 'Mr. Smith', 'Mr. Forbes', 'Mrs. Charpentier', 'Mr. Price', 'Mr. Ryder', 'Mr. Mac', 'Mr. McCarthy', 'Mrs. Tangey', 'Dr. Trevelyan', 'Mr. Hatherley', 'Mr. Stapleton', 'Mr. Musgrave', 'Miss Fraser', 'Mr. Gilchrist', 'Mr. Standback', 'Mrs. Henry', 'Miss Nancy', 'Mr. Lanner', 'Mrs. Woodley', 'Dr. Thorneycroft', 'Mr. Breckinridge', 'Mr. Stanger', 'Miss Mary', 'Mr. Soames', 'Dr. Armstrong', 'Mr. Douglas', 'Mr. Murray', 'Mrs. Larbey', 'Mr. Frankland', 'Mrs. Allen', 'Mr. Scott', 'Miss Dobney', 'Dr. Leon', 'Miss Sutherland', 'Dr. Fordham', 'Mr. Angel', 'Dr. Barnicot', 'Miss Sarah', 'Mrs. Hebron', 'Mrs. Cecil', 'Mrs. Pringle', 'Mr. Moriarty', 'Mr. Homes', 'Mrs. Oakshott', 'Mr. Lucas', 'Mr. Godfrey', 'Mr. Aloysius', 'Mr. Holmes', 'Mr. Cornelius', 'Mr. Mortimer', 'Mr. Holder', 'Mr. McMurdo', 'Mr. Turner', 'Mr. Abe', 'Mrs. Stapleton', 'Mrs. Bernstone', 'Mr. Eccles', 'Mr. Green', 'Mr. Chairman', 'Mr. Jabez', 'Miss Rucastle', 'Mr. Mycroft', 'Mr. Morris', 'Mrs. McGregor', 'Mr. Sherman', 'Miss Violet', 'Mr. Sholto', 'Mr. Cocksure', 'Mrs. King', 'Mr. Von', 'Mr. Windibank', 'Mrs. St', 'Mr. Horace', 'Mr. Ames', 'Mr. Jonas', 'Miss Burnet', 'Mr. Latimer', 'Mr. Pinner', 'Mr. Percy', 'Mr. Enoch', 'Mr. Pycroft', 'Mr. Mordecai', 'Mr. Victor', 'Miss Irene', 'Mr. Busybody', 'Mr. Morse', 'Miss Miles', 'Mr. Cyril', 'Mr. McFarlane', 'Mr. Williamson', 'Mr. Barker', 'Mr. Hynes', 'Miss S', 'Mrs. Porter', 'Mr. Oberstein', 'Mr. Beddoes', 'Miss Turner', 'Mrs. Rucastle', 'Mr. Hope', 'Mrs. Sawyer', 'Miss Flora', 'Mr. Alec', 'Mr. Acton', 'Mr. Harding', 'Mrs. Oldmore', 'Dr. Shlessinger', 'Mrs. Stoner', 'Dr. James', 'Miss Honoria', 'Mr. Heath', 'Mrs. Vandeleur', 'Miss Adler', 'Mr. Cecil', 'Mr. Johnson', 'Mr. Arthur', 'Miss Westbury', 'Mr. Phelps', 'Mr. John', 'Miss Alice', 'Mrs. Shlessinger', 'Mr. Jones', 'Mr. Reuben', 'Miss Hatty', 'Mr. Gregson', 'Mrs. Carey', 'Mr. Jeremy', 'Mr. Inspector', 'Dr. Grimesby', 'Mrs. Browner', 'Mr. Sidney', 'Mr. Harrison', 'Mrs. Turner', 'Miss Cushing', 'Mr. Detective', 'Mr. Shafter', 'Mr. Wilson', 'Mr. Barrymore', 'Mr. Roundhay', 'Mr. Staunton', 'Dr. Percy', 'Mr. Bartholomew', 'Mr. Merryweather', 'Mrs. Farintosh', 'Miss Stoper', 'Mrs. Smith', 'Mrs. Etherege', 'Miss Harrison', 'Mr. Bender', 'Mr. Carruthers', 'Mr. Thaddeus', 'Mr. Fordham', 'Mr. Willoughby', 'Dr. Sterndale', 'Mr. Warren', 'Miss Doran', 'Mr. Windigate', 'Miss Stoner', 'Mrs. Francis', 'Mrs. Watson', 'Mr. Doran', 'Dr. Ferrier', 'Mr. Trelawney', 'Mr. Athelney', 'Mr. Duncan', 'Miss Morstan', 'Mrs. Toller', 'Miss M', 'Mr. Henderson', 'Mr. Stangerson', 'Mr. Hardy', 'Mrs. Hilton', 'Mr. McGinty', 'Dr. Watson', 'Mrs. Forrester', 'Miss Edith', 'Mrs. Barclay', 'Mr. Tregennis', 'Mr. Wilder', 'Dr. Moore', 'Mr. Leverton', 'Mr. Brown', 'Mr. Browner', 'Mr. Joseph', 'Mr. Pickwick', 'Mr. Overton', 'Mrs. Laura', 'Mr. Melas', 'Mrs. Barrymore', 'Miss Stapleton', 'Mr. Crooked', 'Mr. James', 'Mrs. Straker', 'Mr. Drebber', 'Mr. Harris', 'Mr. Cubitt', 'Mr. Ferguson', 'Mr. Armitage', 'Mr. Harry', 'Mr. Neville', 'Dr. Huxtable', 'Mr. Cunningham', 'Mr. Abelwhite', 'Mrs. Lexington', 'Mr. Grant', 'Mr. Milverton', 'Mrs. Lyons', 'Mrs. Peters', 'Dr. Somerton', 'Mr. Farquhar', 'Mr. Treasurer', 'Mr. Patrick', 'Mr. Munro', 'Mr. Trevor', 'Mrs. Douglas', 'Mr. Sandeford', 'Dr. Wood', 'Mr. Huxtable', 'Dr. Mortimer', 'Mrs. Hayes', 'Mr. Peters', 'Mr. Hosmer', 'Mr. Eduardo', 'Mr. Charles', 'Mrs. Moulton', 'Mr. Moulton', 'Mr. Lestrade', 'Mr. Hayes', 'Mrs. Dixon', 'Mr. Harker', 'Mr. St', 'Dr. Richards', 'Mr. Josiah', 'Mr. Baldwin', 'Miss Marie', 'Mr. and', 'Mr. Garcia', 'Mrs. Lucca', 'Miss Helen', 'Mrs. Stewart', 'Mr. Jack', 'Mrs. Hudson', 'Mr. Silas', 'Mr. Isa', 'Miss Morrison', 'Mr. Woodley', 'Miss Hunter', 'Miss Smith', 'Mr. Fowler', 'Mr. William', 'Mr. Culverton', 'Mr. Rucastle', 'Mrs. Marker', 'Mr. Baker', 'Miss Ettie', 'Miss Roylott', 'Mr. Hall', 'Miss Holder', 'Mr. Baynes', 'Mr. Altamont', 'Dr. Leslie', 'Mr. White', 'Mr. Hopkins', 'Mr. Jeremiah', 'Mr. Hyam', 'Mr. Slaney', 'Mr. Boarder', 'Mr. Hugo', 'Dr. Roylott', 'Miss Rachel', 'Dr. Horsom', 'Mr. Oldacre', 'Mr. Hilton', 'Miss Susan', 'Mrs. Warren', 'Mr. Blessington', 'Mr. Jefferson', 'Dr. Ainstree', 'Mr. Sherlock', 'Mr. MacDonald']\n"
     ]
    }
   ],
   "source": [
    "print(\"The Characters:\\n\",list(set(re.findall(r'(?:Dr\\.|Mrs\\.|Mr\\.|Miss) [a-zA-Z]+',text))))"
   ]
  },
  {
   "cell_type": "markdown",
   "metadata": {},
   "source": [
    "## Question 4\n",
    "\n",
    "* Search out all the years and dates that appear in the story"
   ]
  },
  {
   "cell_type": "code",
   "execution_count": 130,
   "metadata": {},
   "outputs": [
    {
     "name": "stdout",
     "output_type": "stream",
     "text": [
      "Years: ['1878', '1860', '1857', '1871', '1878', '1878', '1882', '1882', '1882', '1888', '1858', '1890', '1890', '1869', '1870', '1878', '1883', '1883', '1869', '1869', '1884', '1887', '1846', '1855', '1875', '1891', '1890', '1891', '1894', '1894', '1840', '1881', '1884', '1887', '1894', '1901', '1895', '1900', '1888', '1872', '1883', '1884', '1883', '1883', '1883', '1883', '1894', '1884', '1882', '1882', '1884', '1882', '1883', '1730', '1742', '1742', '1876', '1750', '1800', '1865', '1750', '1875', '1872', '1874', '1875', '1892', '1895', '1897', '1914', '1911', '1915']\n"
     ]
    }
   ],
   "source": [
    "print(\"Years:\",re.findall(r\"1[789]+[0-9]+[0-9]+\",text))"
   ]
  },
  {
   "cell_type": "code",
   "execution_count": 24,
   "metadata": {},
   "outputs": [
    {
     "data": {
      "text/plain": [
       "{'April',\n",
       " 'August',\n",
       " 'December',\n",
       " 'February',\n",
       " 'January',\n",
       " 'July',\n",
       " 'June',\n",
       " 'March',\n",
       " 'May',\n",
       " 'November',\n",
       " 'October',\n",
       " 'September'}"
      ]
     },
     "execution_count": 24,
     "metadata": {},
     "output_type": "execute_result"
    }
   ],
   "source": [
    "set(re.findall(r\"((?:January)|(?:February)|(?:March)|(?:April)|(?:May)|(?:June)|(?:July)|(?:August)|(?:September)|(?:October)|(?:November)|(?:December))\",text))"
   ]
  },
  {
   "cell_type": "markdown",
   "metadata": {},
   "source": [
    "## Question 5\n",
    "\n",
    "Sherlock holmes is frequently smoking his pipe. But like many verbs in english, there are many ways that the word smoking can be conjugated depending on the context.\n",
    "\n",
    "* capture all sentences that take about smoking (smoke, smokes, smoking, smoked)\n",
    "* capture the two words that appear after the smoking word\n",
    "* capture the two words that appear before the smoking word"
   ]
  },
  {
   "cell_type": "code",
   "execution_count": 6,
   "metadata": {},
   "outputs": [
    {
     "data": {
      "text/plain": [
       "[' You don\\'t mind the smell of strong tobacco, I hope?\"  \"I always smoke ',\n",
       " ' He was more than six feet high, was in the prime of life, had small feet for his height, wore coarse, square-toed boots and smoked',\n",
       " ' If you can say definitely, for example, that some murder has been done by a man who was smoking ',\n",
       " ' Shall I open a flask? No? Well, then, I trust that you have no objection to tobacco-smoke,',\n",
       " '\" He applied a taper to the great bowl, and the smoke ',\n",
       " '  Holmes was standing on the door-step, with his hands in his pockets, smoking ',\n",
       " ' I am going to smoke ',\n",
       " ' I would have thought no more of knifing him than of smoking ',\n",
       " ' Abelwhite was a kind man, and he would often drop into my little shanty and smoke ',\n",
       " ' There he sat on his veranda, drinking whiskey-pegs and smoking ',\n",
       " ' I reined up my horse, wondering which way I should turn, but at that moment I saw thick smoke ',\n",
       " '\"  \"Well, and there is the end of our little drama,\" I remarked, after we had set some time smoking ',\n",
       " ' \"It is an ordinary plumber\\'s smoke-',\n",
       " ' There was a group of shabbily dressed men smoking ',\n",
       " ' I hardened my heart, and took the smoke-',\n",
       " ' At the same instant I saw him raise his hand and at the signal I tossed my rocket into the room with a cry of \"Fire!\" The word was no sooner out of my mouth than the whole crowd of spectators, well dressed and ill--gentlemen, ostlers, and servant-maids--joined in a general shriek of \"Fire!\" Thick clouds of smoke ',\n",
       " ' The smoke ',\n",
       " '  \"To smoke,',\n",
       " ' It was a poky, little, shabby-genteel place, where four lines of dingy two-storied brick houses looked out into a small railed-in enclosure, where a lawn of weedy grass and a few clumps of faded laurel-bushes made a hard fight against a smoke-',\n",
       " ' I have a caseful of cigarettes here which need smoking,',\n",
       " ' The drawn blinds and the smokel',\n",
       " '\"  \"And the murderer?\"  \"Is a tall man, left-handed, limps with the right leg, wears thick-soled shooting-boots and a grey cloak, smokes',\n",
       " ' He had even smoked',\n",
       " '  \"When I went down there I found him talking with his son, so I smoked',\n",
       " ' He drank a great deal of brandy and smoked',\n",
       " ' Then he lit his pipe, and leaning back in his chair he watched the blue smoke-',\n",
       " ' Ordering my cab to wait, I passed down the steps, worn hollow in the centre by the ceaseless tread of drunken feet; and by the light of a flickering oil-lamp above the door I found the latch and made my way into a long, low room, thick and heavy with the brown opium smoke,',\n",
       " '  \"I suppose, Watson,\" said he, \"that you imagine that I have added opium-smoking ',\n",
       " ' In the dim light of the lamp I saw him sitting there, an old briar pipe between his lips, his eyes fixed vacantly upon the corner of the ceiling, the blue smoke ',\n",
       " ' The pipe was still between his lips, the smoke ',\n",
       " ' Outside, the stars were shining coldly in a cloudless sky, and the breath of the passers-by blew out into smoke ',\n",
       " ' Then I went into the back yard and smoked',\n",
       " ' The central portion was in little better repair, but the right-hand block was comparatively modern, and the blinds in the windows, with the blue smoke ',\n",
       " '  Sherlock Holmes was, as I expected, lounging about his sitting-room in his dressing-gown, reading the agony column of The Times and smoking his before-breakfast pipe, which was composed of all the plugs and dottles left from his smokes',\n",
       " ' As we rolled into Eyford Station we saw a gigantic column of smoke ',\n",
       " ' If you care to smoke ',\n",
       " '  \"You think a man must be well-to-do if he smokes',\n",
       " ' \"As he might get an excellent smoke ',\n",
       " ' Well, I was sitting doing a smoke ',\n",
       " ' Then he lit his pipe and sat for some time smoking ',\n",
       " \" Then we rushed on into the captain's cabin, but as we pushed open the door there was an explosion from within, and there he lay with his brains smeared over the chart of the Atlantic which was pinned upon the table, while the chaplain stood with a smoking \",\n",
       " ' We cracked off the necks of the bottles, poured the stuff out into tumblers, and were just tossing them off, when in an instant without warning there came the roar of muskets in our ears, and the saloon was so full of smoke ',\n",
       " ' Suddenly as we looked at her we saw a dense black cloud of smoke ',\n",
       " ' A few seconds later a roar like thunder burst upon our ears, and as the smoke ',\n",
       " ' Alec was smoking ',\n",
       " '\"  \"Where was he sitting?\"  \"I was smoking ',\n",
       " ' This, I understand is your son\\'s room\"--he pushed open the door--\"and that, I presume, is the dressing-room in which he sat smoking ',\n",
       " '\"  Sherlock Holmes was as good as his word, for about one o\\'clock he rejoined us in the Colonel\\'s smoking-',\n",
       " '\"       THE CROOKED MAN  One summer night, a few months after my marriage, I was seated by my own hearth smoking ',\n",
       " '\"  \"You look surprised, and no wonder!  Relieved, too, I fancy!  Hum! You still smoke ',\n",
       " \"  No, thank you, I had some supper at Waterloo, but I'll smoke \",\n",
       " '\"  I handed him my pouch, and he seated himself opposite to me and smoked',\n",
       " '  \"Having gathered these facts, Watson, I smoked',\n",
       " ' His face was as impassive as ever, but his lids had drooped more heavily over his eyes, and his smoke ',\n",
       " ' Seems to have smoked',\n",
       " '  \"Two of these have been smoked',\n",
       " ' It must have lasted for some time, for it was then that these cigars were smoked',\n",
       " '  His brother Mycroft was sitting smoking ',\n",
       " '\"  \"I never smoke ',\n",
       " '  Might I trouble you for a match?\"  He drew in the smoke ',\n",
       " '  The torrent, swollen by the melting snow, plunges into a tremendous abyss, from which the spray rolls up like the smoke ',\n",
       " ' She had lit a fire there, and as it smoked',\n",
       " ' Might I ask you, Watson, to open that window, and then to put a match to the edge of the straw?\"  I did so, and, driven by the draught, a coil of grey smoke ',\n",
       " ' The passage, as well as the room, was full of smoke ',\n",
       " '\"  \"Lie number one,\" said the old man; \"I never saw either of them until two months ago, and I have never been in Africa in my life, so you can put that in your pipe and smoke ',\n",
       " ' He had obtained a large ordnance map of the neighbourhood, and this he brought into my room, where he laid it out on the bed, and, having balanced the lamp in the middle of it, he began to smoke ',\n",
       " ' I had smoked',\n",
       " ' With difficulty he limped up to the door, where a squat, dark, elderly man was smoking ',\n",
       " '\"  \"No, sir, we could find no pipe; indeed, he smoked',\n",
       " \"' upon the pouch were a coincidence, and not those of Peter Carey, since he seldom smoked\",\n",
       " ' Still holding my hand in one of his he opened a door, and I was vaguely conscious that we had entered a large room in which a cigar had been smoked',\n",
       " ' It was evident that we had entirely miscalculated his movements, that he had never been to his bedroom, but that he had been sitting up in some smoking ',\n",
       " ' He wore a semi-military smoking ',\n",
       " ' In his hand he held a long legal document, which he was reading in an indolent fashion, blowing rings of tobacco smoke ',\n",
       " '  We had breakfasted and were smoking ',\n",
       " \" I don't think we can even venture to smoke \",\n",
       " '  \"A smoker',\n",
       " ' I observed that he was smoking ',\n",
       " ' Holmes; why, you are even a quicker smoker',\n",
       " '  \"It depends upon those cigarettes that I smoked',\n",
       " ' He does smoke ',\n",
       " ' Smith, he was a smoker',\n",
       " ' I therefore smoked',\n",
       " ' I should not sit here smoking ',\n",
       " '\"  Holmes smoked',\n",
       " ' He ran out and ran in, smoked',\n",
       " '\"  I laughed incredulously as Sherlock Holmes leaned back in his settee and blew little wavering rings of smoke ',\n",
       " ' That night he went out as usual for his nocturnal walk, in the course of which he was in the habit of smoking ',\n",
       " '  My first impression as I opened the door was that a fire had broken out, for the room was so filled with smoke ',\n",
       " ' Black beams shot across above our heads, with a smoke-',\n",
       " ' We talked little, and I for one was glad when the meal was over and we were able to retire into the modern billiard-room and smoke ',\n",
       " ' She had come from the direction in which the plume of smoke ',\n",
       " ' The next night we lowered the lamp, and sat smoking ',\n",
       " ' There were the two towers of Baskerville Hall, and there a distant blur of smoke ',\n",
       " ' Both of them were smoking ',\n",
       " \" No, I won't smoke,\",\n",
       " ' This was destroyed by fire in 1543, and some of its smoke-',\n",
       " '  Yet, though looked at with some curiosity and reserve by his more cultivated neighbours, he soon acquired a great popularity among the villagers, subscribing handsomely to all local objects, and attending their smoking ',\n",
       " ' \"May I smoke ',\n",
       " \" You're a smoker\",\n",
       " ' These sat smoking ',\n",
       " ' Down that long valley there was at least a certain gloomy grandeur in the huge fires and the clouds of drifting smoke,',\n",
       " '  McMurdo pushed open the swinging door of the saloon and made his way amid the crowd of men within, through an atmosphere blurred with tobacco smoke ',\n",
       " '\"  That same afternoon, as McMurdo sat smoking,',\n",
       " ' Who is he, and where shall I find him?\"  McGinty took his eternal half-chewed, half-smoked',\n",
       " ' The long room was crowded, and through the haze of tobacco smoke ',\n",
       " '  He made no remark, but the matter remained in his thoughts, for he stood in front of the fire afterwards with a thoughtful face, smoking ',\n",
       " ' He gave up all pretence at conversation and sat, smoking ',\n",
       " ' Holmes smoked',\n",
       " ' I should say that only a clean-shaven man could have smoked',\n",
       " ' Therefore I shall expect to meet you in the smoking-',\n",
       " ' A high bald head had a small velvet smoking-',\n",
       " '\"  The little man started, and the jaunty smoking-',\n",
       " ' Culverton Smith smiled pleasantly and picked up his smoking-',\n",
       " ' I left him smoking ',\n",
       " '  These were the two men who entered abruptly into our little sitting-room on Tuesday, March the 16th, shortly after our breakfast hour, as we were smoking ',\n",
       " ' He sat coiled in his armchair, his haggard and ascetic face hardly visible amid the blue swirl of his tobacco smoke,',\n",
       " ' This might partly be due to the fact that a lamp stood flaring and smoking ',\n",
       " ' During this time Holmes spent some of his time smoking ',\n",
       " ' The obvious place to look was the talc shelf or smoke-',\n",
       " ' Then you passed out and closed the window, standing on the lawn outside smoking ',\n",
       " ' A half-smoked']"
      ]
     },
     "execution_count": 6,
     "metadata": {},
     "output_type": "execute_result"
    }
   ],
   "source": [
    "#capture all sentences that take about smoking (smoke, smokes, smoking, smoked)\n",
    "re.findall(r'([^.]*(?:smoke|smokes|smoking|smoked)[^.])',text)"
   ]
  },
  {
   "cell_type": "code",
   "execution_count": 90,
   "metadata": {},
   "outputs": [
    {
     "data": {
      "text/plain": [
       "['smoking an Indian ',\n",
       " 'smoking his pipe.  \"',\n",
       " 'smoking this cigar. ',\n",
       " 'smoking cheroots, while ',\n",
       " 'smoking in silence. \"',\n",
       " 'smoking and laughing ',\n",
       " 'smoking to cocaine ',\n",
       " 'smoking his before-',\n",
       " 'smoking and turning ',\n",
       " 'smoking pistol in ',\n",
       " 'smoking a pipe ',\n",
       " 'smoking in my ',\n",
       " 'smoking when the ',\n",
       " 'smoking a last ',\n",
       " 'smoking in the ',\n",
       " 'smoking a black ',\n",
       " 'smoking or billiard ',\n",
       " 'smoking jacket, claret-',\n",
       " 'smoking our morning ',\n",
       " 'smoking with extraordinary ',\n",
       " 'smoking with you ',\n",
       " 'smoking a cigar. ',\n",
       " 'smoking cigarettes without ',\n",
       " 'smoking cigars, and ',\n",
       " 'smoking concerts and ',\n",
       " 'smoking in a ',\n",
       " 'smoking his pipe, ',\n",
       " 'smoking endless cigarettes, ',\n",
       " 'smoking hard, with ',\n",
       " 'smoking together, preparatory ',\n",
       " 'smoking on the ',\n",
       " 'smoking and dreaming ',\n",
       " 'smoking a cigar ']"
      ]
     },
     "execution_count": 90,
     "metadata": {},
     "output_type": "execute_result"
    }
   ],
   "source": [
    "#capture the two words that appear after the smoking word\n",
    "re.findall(r'(?:smoking)\\s+(?:\\w+\\W+){2}',text)"
   ]
  },
  {
   "cell_type": "code",
   "execution_count": 96,
   "metadata": {},
   "outputs": [
    {
     "data": {
      "text/plain": [
       "['who was smoking',\n",
       " 'his pockets, smoking',\n",
       " 'than of smoking',\n",
       " 'pegs and smoking',\n",
       " 'some time smoking',\n",
       " 'dressed men smoking',\n",
       " 'which need smoking',\n",
       " 'added opium-smoking',\n",
       " 'Times and smoking',\n",
       " 'some time smoking',\n",
       " 'with a smoking',\n",
       " 'Alec was smoking',\n",
       " 'I was smoking',\n",
       " 'he sat smoking',\n",
       " \"Colonel's smoking\",\n",
       " 'own hearth smoking',\n",
       " 'was sitting smoking',\n",
       " 'man was smoking',\n",
       " 'in some smoking',\n",
       " 'semi-military smoking',\n",
       " 'and were smoking',\n",
       " 'he was smoking',\n",
       " 'for the smoking',\n",
       " 'sit here smoking',\n",
       " 'habit of smoking',\n",
       " 'and sat smoking',\n",
       " 'them were smoking',\n",
       " 'attending their smoking',\n",
       " 'These sat smoking',\n",
       " 'McMurdo sat smoking',\n",
       " 'thoughtful face, smoking',\n",
       " 'and sat, smoking',\n",
       " 'in the smoking',\n",
       " 'small velvet smoking',\n",
       " 'the jaunty smoking',\n",
       " 'up his smoking',\n",
       " 'left him smoking',\n",
       " 'we were smoking',\n",
       " 'flaring and smoking',\n",
       " 'his time smoking',\n",
       " 'lawn outside smoking']"
      ]
     },
     "execution_count": 96,
     "metadata": {},
     "output_type": "execute_result"
    }
   ],
   "source": [
    "#capture the two words that appear before the smoking word\n",
    "re.findall(r'(?:\\w+\\W+){2}(?:smoking)',text)"
   ]
  },
  {
   "cell_type": "markdown",
   "metadata": {},
   "source": [
    "    \n",
    "## Question 6\n",
    "\n",
    "Often we will recieve a block of unstructured text and want to use REGEX to provide some structure. In this case, we may want to split the book by chapter.\n",
    "\n",
    "* use the re.split() function to split the books by chapter."
   ]
  },
  {
   "cell_type": "code",
   "execution_count": 87,
   "metadata": {},
   "outputs": [
    {
     "name": "stdout",
     "output_type": "stream",
     "text": [
      "Number of Chapters: 64\n"
     ]
    }
   ],
   "source": [
    "~~~~~~~~~~~~~~~~~~~~~~~~~~~~~~~~chapter_wise = re.split(r'CHAPTER\\s\\w+\\s',text)\n",
    "print(\"Number of Chapters:\",len(chapter_wise))"
   ]
  }
 ],
 "metadata": {
  "anaconda-cloud": {},
  "kernelspec": {
   "display_name": "Python 3",
   "language": "python",
   "name": "python3"
  },
  "language_info": {
   "codemirror_mode": {
    "name": "ipython",
    "version": 3
   },
   "file_extension": ".py",
   "mimetype": "text/x-python",
   "name": "python",
   "nbconvert_exporter": "python",
   "pygments_lexer": "ipython3",
   "version": "3.7.3"
  }
 },
 "nbformat": 4,
 "nbformat_minor": 1
}
